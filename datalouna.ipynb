{
 "cells": [
  {
   "cell_type": "markdown",
   "metadata": {},
   "source": [
    "# Предсказание победы в матче CS:GO"
   ]
  },
  {
   "cell_type": "markdown",
   "metadata": {
    "tags": []
   },
   "source": [
    "## 1 Загрузка и предварительный анализ данных"
   ]
  },
  {
   "cell_type": "markdown",
   "metadata": {
    "tags": []
   },
   "source": [
    "### 1.1 Загрузка данных"
   ]
  },
  {
   "cell_type": "markdown",
   "metadata": {},
   "source": [
    "Модули."
   ]
  },
  {
   "cell_type": "code",
   "execution_count": 1,
   "metadata": {},
   "outputs": [],
   "source": [
    "# !pip install lightgbm\n",
    "# !pip install catboost"
   ]
  },
  {
   "cell_type": "code",
   "execution_count": 2,
   "metadata": {
    "id": "sNlzyhJUgpD8"
   },
   "outputs": [],
   "source": [
    "import warnings\n",
    "warnings.filterwarnings('ignore')\n",
    "\n",
    "import numpy as np\n",
    "import pandas as pd\n",
    "\n",
    "import matplotlib.pyplot as plt\n",
    "import seaborn as sns\n",
    "\n",
    "from sklearn.impute import KNNImputer\n",
    "from sklearn.preprocessing import StandardScaler\n",
    "from sklearn.model_selection import GridSearchCV\n",
    "from sklearn.ensemble import RandomForestClassifier\n",
    "from sklearn.linear_model import LogisticRegression\n",
    "from sklearn.dummy import DummyClassifier\n",
    "from sklearn.metrics import plot_roc_curve\n",
    "\n",
    "from lightgbm import LGBMClassifier\n",
    "from catboost import CatBoostClassifier"
   ]
  },
  {
   "cell_type": "markdown",
   "metadata": {},
   "source": [
    "Загрузка данных."
   ]
  },
  {
   "cell_type": "code",
   "execution_count": 3,
   "metadata": {
    "id": "gT1nsn9LhK-A"
   },
   "outputs": [],
   "source": [
    "train = pd.read_csv('./data/train.csv')\n",
    "test = pd.read_csv('./data/test.csv')\n",
    "players_feats = pd.read_csv('./data/players_feats.csv')"
   ]
  },
  {
   "cell_type": "markdown",
   "metadata": {},
   "source": [
    "Размеры загруженных датасетов."
   ]
  },
  {
   "cell_type": "code",
   "execution_count": 4,
   "metadata": {},
   "outputs": [
    {
     "data": {
      "text/plain": [
       "((713, 5), (30, 5), (1486, 128))"
      ]
     },
     "execution_count": 4,
     "metadata": {},
     "output_type": "execute_result"
    }
   ],
   "source": [
    "train.shape, test.shape, players_feats.shape"
   ]
  },
  {
   "cell_type": "markdown",
   "metadata": {
    "tags": []
   },
   "source": [
    "### 1.2 Тренировочные данные о матчах"
   ]
  },
  {
   "cell_type": "code",
   "execution_count": 5,
   "metadata": {},
   "outputs": [
    {
     "data": {
      "text/html": [
       "<div>\n",
       "<style scoped>\n",
       "    .dataframe tbody tr th:only-of-type {\n",
       "        vertical-align: middle;\n",
       "    }\n",
       "\n",
       "    .dataframe tbody tr th {\n",
       "        vertical-align: top;\n",
       "    }\n",
       "\n",
       "    .dataframe thead th {\n",
       "        text-align: right;\n",
       "    }\n",
       "</style>\n",
       "<table border=\"1\" class=\"dataframe\">\n",
       "  <thead>\n",
       "    <tr style=\"text-align: right;\">\n",
       "      <th></th>\n",
       "      <th>map_id</th>\n",
       "      <th>team1_id</th>\n",
       "      <th>team2_id</th>\n",
       "      <th>map_name</th>\n",
       "      <th>who_win</th>\n",
       "    </tr>\n",
       "  </thead>\n",
       "  <tbody>\n",
       "    <tr>\n",
       "      <th>0</th>\n",
       "      <td>289</td>\n",
       "      <td>6665</td>\n",
       "      <td>7718</td>\n",
       "      <td>Ancient</td>\n",
       "      <td>0</td>\n",
       "    </tr>\n",
       "    <tr>\n",
       "      <th>1</th>\n",
       "      <td>715</td>\n",
       "      <td>4411</td>\n",
       "      <td>10577</td>\n",
       "      <td>Inferno</td>\n",
       "      <td>0</td>\n",
       "    </tr>\n",
       "    <tr>\n",
       "      <th>2</th>\n",
       "      <td>157</td>\n",
       "      <td>11251</td>\n",
       "      <td>9455</td>\n",
       "      <td>Nuke</td>\n",
       "      <td>1</td>\n",
       "    </tr>\n",
       "  </tbody>\n",
       "</table>\n",
       "</div>"
      ],
      "text/plain": [
       "   map_id  team1_id  team2_id map_name  who_win\n",
       "0     289      6665      7718  Ancient        0\n",
       "1     715      4411     10577  Inferno        0\n",
       "2     157     11251      9455     Nuke        1"
      ]
     },
     "metadata": {},
     "output_type": "display_data"
    },
    {
     "name": "stdout",
     "output_type": "stream",
     "text": [
      "<class 'pandas.core.frame.DataFrame'>\n",
      "RangeIndex: 713 entries, 0 to 712\n",
      "Data columns (total 5 columns):\n",
      " #   Column    Non-Null Count  Dtype \n",
      "---  ------    --------------  ----- \n",
      " 0   map_id    713 non-null    int64 \n",
      " 1   team1_id  713 non-null    int64 \n",
      " 2   team2_id  713 non-null    int64 \n",
      " 3   map_name  713 non-null    object\n",
      " 4   who_win   713 non-null    int64 \n",
      "dtypes: int64(4), object(1)\n",
      "memory usage: 28.0+ KB\n"
     ]
    }
   ],
   "source": [
    "display(train.head(3))\n",
    "train.info()"
   ]
  },
  {
   "cell_type": "markdown",
   "metadata": {},
   "source": [
    "Пропусков нет, типы данных адекватные."
   ]
  },
  {
   "cell_type": "markdown",
   "metadata": {},
   "source": [
    "Доля побед второй команды."
   ]
  },
  {
   "cell_type": "code",
   "execution_count": 6,
   "metadata": {},
   "outputs": [
    {
     "name": "stdout",
     "output_type": "stream",
     "text": [
      "45.86%\n"
     ]
    }
   ],
   "source": [
    "print(f'{(train.who_win == 1).sum() / len(train) :.2%}')"
   ]
  },
  {
   "cell_type": "markdown",
   "metadata": {},
   "source": [
    "Выраженного дисбаланса нет."
   ]
  },
  {
   "cell_type": "markdown",
   "metadata": {
    "tags": []
   },
   "source": [
    "### 1.3 Тестовые данные о матчах"
   ]
  },
  {
   "cell_type": "code",
   "execution_count": 7,
   "metadata": {},
   "outputs": [
    {
     "data": {
      "text/html": [
       "<div>\n",
       "<style scoped>\n",
       "    .dataframe tbody tr th:only-of-type {\n",
       "        vertical-align: middle;\n",
       "    }\n",
       "\n",
       "    .dataframe tbody tr th {\n",
       "        vertical-align: top;\n",
       "    }\n",
       "\n",
       "    .dataframe thead th {\n",
       "        text-align: right;\n",
       "    }\n",
       "</style>\n",
       "<table border=\"1\" class=\"dataframe\">\n",
       "  <thead>\n",
       "    <tr style=\"text-align: right;\">\n",
       "      <th></th>\n",
       "      <th>index</th>\n",
       "      <th>map_id</th>\n",
       "      <th>team1_id</th>\n",
       "      <th>team2_id</th>\n",
       "      <th>map_name</th>\n",
       "    </tr>\n",
       "  </thead>\n",
       "  <tbody>\n",
       "    <tr>\n",
       "      <th>0</th>\n",
       "      <td>713</td>\n",
       "      <td>309</td>\n",
       "      <td>5973</td>\n",
       "      <td>5752</td>\n",
       "      <td>Dust2</td>\n",
       "    </tr>\n",
       "    <tr>\n",
       "      <th>1</th>\n",
       "      <td>714</td>\n",
       "      <td>541</td>\n",
       "      <td>5973</td>\n",
       "      <td>5752</td>\n",
       "      <td>Vertigo</td>\n",
       "    </tr>\n",
       "    <tr>\n",
       "      <th>2</th>\n",
       "      <td>715</td>\n",
       "      <td>1</td>\n",
       "      <td>8297</td>\n",
       "      <td>7020</td>\n",
       "      <td>Nuke</td>\n",
       "    </tr>\n",
       "  </tbody>\n",
       "</table>\n",
       "</div>"
      ],
      "text/plain": [
       "   index  map_id  team1_id  team2_id map_name\n",
       "0    713     309      5973      5752    Dust2\n",
       "1    714     541      5973      5752  Vertigo\n",
       "2    715       1      8297      7020     Nuke"
      ]
     },
     "metadata": {},
     "output_type": "display_data"
    },
    {
     "name": "stdout",
     "output_type": "stream",
     "text": [
      "<class 'pandas.core.frame.DataFrame'>\n",
      "RangeIndex: 30 entries, 0 to 29\n",
      "Data columns (total 5 columns):\n",
      " #   Column    Non-Null Count  Dtype \n",
      "---  ------    --------------  ----- \n",
      " 0   index     30 non-null     int64 \n",
      " 1   map_id    30 non-null     int64 \n",
      " 2   team1_id  30 non-null     int64 \n",
      " 3   team2_id  30 non-null     int64 \n",
      " 4   map_name  30 non-null     object\n",
      "dtypes: int64(4), object(1)\n",
      "memory usage: 1.3+ KB\n"
     ]
    }
   ],
   "source": [
    "display(test.head(3))\n",
    "test.info()"
   ]
  },
  {
   "cell_type": "markdown",
   "metadata": {},
   "source": [
    "Удалим столбец **index**, он к делу не относится. В остальном все как у тренировочной таблицы."
   ]
  },
  {
   "cell_type": "code",
   "execution_count": 8,
   "metadata": {},
   "outputs": [],
   "source": [
    "test.drop(columns=['index'], inplace=True)"
   ]
  },
  {
   "cell_type": "markdown",
   "metadata": {},
   "source": [
    "В обеих таблицах нет пропусков, типы данных парвильные."
   ]
  },
  {
   "cell_type": "markdown",
   "metadata": {
    "tags": []
   },
   "source": [
    "### 1.4 Метрики игроков"
   ]
  },
  {
   "cell_type": "code",
   "execution_count": 9,
   "metadata": {},
   "outputs": [
    {
     "data": {
      "text/html": [
       "<div>\n",
       "<style scoped>\n",
       "    .dataframe tbody tr th:only-of-type {\n",
       "        vertical-align: middle;\n",
       "    }\n",
       "\n",
       "    .dataframe tbody tr th {\n",
       "        vertical-align: top;\n",
       "    }\n",
       "\n",
       "    .dataframe thead th {\n",
       "        text-align: right;\n",
       "    }\n",
       "</style>\n",
       "<table border=\"1\" class=\"dataframe\">\n",
       "  <thead>\n",
       "    <tr style=\"text-align: right;\">\n",
       "      <th></th>\n",
       "      <th>p1_id</th>\n",
       "      <th>p1_total_kills</th>\n",
       "      <th>p1_headshots</th>\n",
       "      <th>p1_total_deaths</th>\n",
       "      <th>p1_kd_ratio</th>\n",
       "      <th>p1_damage_per_round</th>\n",
       "      <th>p1_grenade_damage_per_round</th>\n",
       "      <th>p1_maps_played</th>\n",
       "      <th>p1_rounds_played</th>\n",
       "      <th>p1_kills_per_round</th>\n",
       "      <th>...</th>\n",
       "      <th>p5_kill_death_difference</th>\n",
       "      <th>p5_total_opening_kills</th>\n",
       "      <th>p5_total_opening_deaths</th>\n",
       "      <th>p5_opening_kill_ratio</th>\n",
       "      <th>p5_opening_kill_rating</th>\n",
       "      <th>p5_team_win_percent_after_first_kill</th>\n",
       "      <th>p5_first_kill_in_won_rounds</th>\n",
       "      <th>team_id</th>\n",
       "      <th>map_name</th>\n",
       "      <th>map_id</th>\n",
       "    </tr>\n",
       "  </thead>\n",
       "  <tbody>\n",
       "    <tr>\n",
       "      <th>0</th>\n",
       "      <td>4954</td>\n",
       "      <td>90</td>\n",
       "      <td>42.2</td>\n",
       "      <td>112</td>\n",
       "      <td>0.80</td>\n",
       "      <td>76.3</td>\n",
       "      <td>5.9</td>\n",
       "      <td>6</td>\n",
       "      <td>156</td>\n",
       "      <td>0.58</td>\n",
       "      <td>...</td>\n",
       "      <td>5</td>\n",
       "      <td>25</td>\n",
       "      <td>12</td>\n",
       "      <td>2.08</td>\n",
       "      <td>1.28</td>\n",
       "      <td>84.0</td>\n",
       "      <td>25.0</td>\n",
       "      <td>6665</td>\n",
       "      <td>Ancient</td>\n",
       "      <td>635</td>\n",
       "    </tr>\n",
       "    <tr>\n",
       "      <th>1</th>\n",
       "      <td>5794</td>\n",
       "      <td>45</td>\n",
       "      <td>60.0</td>\n",
       "      <td>57</td>\n",
       "      <td>0.79</td>\n",
       "      <td>82.3</td>\n",
       "      <td>10.9</td>\n",
       "      <td>3</td>\n",
       "      <td>68</td>\n",
       "      <td>0.66</td>\n",
       "      <td>...</td>\n",
       "      <td>96</td>\n",
       "      <td>54</td>\n",
       "      <td>34</td>\n",
       "      <td>1.59</td>\n",
       "      <td>1.17</td>\n",
       "      <td>70.4</td>\n",
       "      <td>16.7</td>\n",
       "      <td>7532</td>\n",
       "      <td>Ancient</td>\n",
       "      <td>635</td>\n",
       "    </tr>\n",
       "    <tr>\n",
       "      <th>2</th>\n",
       "      <td>4954</td>\n",
       "      <td>156</td>\n",
       "      <td>51.9</td>\n",
       "      <td>167</td>\n",
       "      <td>0.93</td>\n",
       "      <td>63.5</td>\n",
       "      <td>3.4</td>\n",
       "      <td>10</td>\n",
       "      <td>265</td>\n",
       "      <td>0.59</td>\n",
       "      <td>...</td>\n",
       "      <td>22</td>\n",
       "      <td>26</td>\n",
       "      <td>19</td>\n",
       "      <td>1.37</td>\n",
       "      <td>1.10</td>\n",
       "      <td>88.5</td>\n",
       "      <td>20.5</td>\n",
       "      <td>6665</td>\n",
       "      <td>Dust2</td>\n",
       "      <td>583</td>\n",
       "    </tr>\n",
       "  </tbody>\n",
       "</table>\n",
       "<p>3 rows × 128 columns</p>\n",
       "</div>"
      ],
      "text/plain": [
       "   p1_id  p1_total_kills  p1_headshots  p1_total_deaths  p1_kd_ratio  \\\n",
       "0   4954              90          42.2              112         0.80   \n",
       "1   5794              45          60.0               57         0.79   \n",
       "2   4954             156          51.9              167         0.93   \n",
       "\n",
       "   p1_damage_per_round  p1_grenade_damage_per_round  p1_maps_played  \\\n",
       "0                 76.3                          5.9               6   \n",
       "1                 82.3                         10.9               3   \n",
       "2                 63.5                          3.4              10   \n",
       "\n",
       "   p1_rounds_played  p1_kills_per_round  ...  p5_kill_death_difference  \\\n",
       "0               156                0.58  ...                         5   \n",
       "1                68                0.66  ...                        96   \n",
       "2               265                0.59  ...                        22   \n",
       "\n",
       "   p5_total_opening_kills  p5_total_opening_deaths  p5_opening_kill_ratio  \\\n",
       "0                      25                       12                   2.08   \n",
       "1                      54                       34                   1.59   \n",
       "2                      26                       19                   1.37   \n",
       "\n",
       "   p5_opening_kill_rating  p5_team_win_percent_after_first_kill  \\\n",
       "0                    1.28                                  84.0   \n",
       "1                    1.17                                  70.4   \n",
       "2                    1.10                                  88.5   \n",
       "\n",
       "   p5_first_kill_in_won_rounds  team_id  map_name  map_id  \n",
       "0                         25.0     6665   Ancient     635  \n",
       "1                         16.7     7532   Ancient     635  \n",
       "2                         20.5     6665     Dust2     583  \n",
       "\n",
       "[3 rows x 128 columns]"
      ]
     },
     "metadata": {},
     "output_type": "display_data"
    },
    {
     "name": "stdout",
     "output_type": "stream",
     "text": [
      "<class 'pandas.core.frame.DataFrame'>\n",
      "RangeIndex: 1486 entries, 0 to 1485\n",
      "Columns: 128 entries, p1_id to map_id\n",
      "dtypes: float64(80), int64(47), object(1)\n",
      "memory usage: 1.5+ MB\n"
     ]
    }
   ],
   "source": [
    "display(players_feats.head(3))\n",
    "players_feats.info()"
   ]
  },
  {
   "cell_type": "markdown",
   "metadata": {},
   "source": [
    "Названия метрик на примере первого игрока всех команд."
   ]
  },
  {
   "cell_type": "code",
   "execution_count": 10,
   "metadata": {},
   "outputs": [
    {
     "name": "stdout",
     "output_type": "stream",
     "text": [
      "p1_id\n",
      "p1_total_kills\n",
      "p1_headshots\n",
      "p1_total_deaths\n",
      "p1_kd_ratio\n",
      "p1_damage_per_round\n",
      "p1_grenade_damage_per_round\n",
      "p1_maps_played\n",
      "p1_rounds_played\n",
      "p1_kills_per_round\n",
      "p1_assists_per_round\n",
      "p1_deaths_per_round\n",
      "p1_saved_by_teammate_per_round\n",
      "p1_saved_teammates_per_round\n",
      "p1_rating\n",
      "p1_kill_death\n",
      "p1_kill_round\n",
      "p1_rounds_with_kills\n",
      "p1_kill_death_difference\n",
      "p1_total_opening_kills\n",
      "p1_total_opening_deaths\n",
      "p1_opening_kill_ratio\n",
      "p1_opening_kill_rating\n",
      "p1_team_win_percent_after_first_kill\n",
      "p1_first_kill_in_won_rounds\n"
     ]
    }
   ],
   "source": [
    "print(*players_feats.columns[players_feats.columns.str.contains('1')], sep='\\n')"
   ]
  },
  {
   "cell_type": "markdown",
   "metadata": {},
   "source": [
    "Названия столбцов, не относящихся к метрикам."
   ]
  },
  {
   "cell_type": "code",
   "execution_count": 11,
   "metadata": {},
   "outputs": [
    {
     "name": "stdout",
     "output_type": "stream",
     "text": [
      "team_id\n",
      "map_name\n",
      "map_id\n"
     ]
    }
   ],
   "source": [
    "print(*players_feats.columns[~players_feats.columns.str.contains('|'.join(['1', '2', '3', '4', '5']))], sep='\\n')"
   ]
  },
  {
   "cell_type": "markdown",
   "metadata": {},
   "source": [
    "Рассмотрим описательную статистику метрик на примере первого игрока всех команд, чтобы оценить порядок и разброс."
   ]
  },
  {
   "cell_type": "code",
   "execution_count": 12,
   "metadata": {},
   "outputs": [
    {
     "data": {
      "text/html": [
       "<div>\n",
       "<style scoped>\n",
       "    .dataframe tbody tr th:only-of-type {\n",
       "        vertical-align: middle;\n",
       "    }\n",
       "\n",
       "    .dataframe tbody tr th {\n",
       "        vertical-align: top;\n",
       "    }\n",
       "\n",
       "    .dataframe thead th {\n",
       "        text-align: right;\n",
       "    }\n",
       "</style>\n",
       "<table border=\"1\" class=\"dataframe\">\n",
       "  <thead>\n",
       "    <tr style=\"text-align: right;\">\n",
       "      <th></th>\n",
       "      <th>p1_id</th>\n",
       "      <th>p1_total_kills</th>\n",
       "      <th>p1_headshots</th>\n",
       "      <th>p1_total_deaths</th>\n",
       "      <th>p1_kd_ratio</th>\n",
       "      <th>p1_damage_per_round</th>\n",
       "      <th>p1_grenade_damage_per_round</th>\n",
       "      <th>p1_maps_played</th>\n",
       "      <th>p1_rounds_played</th>\n",
       "      <th>p1_kills_per_round</th>\n",
       "      <th>...</th>\n",
       "      <th>p1_kill_death</th>\n",
       "      <th>p1_kill_round</th>\n",
       "      <th>p1_rounds_with_kills</th>\n",
       "      <th>p1_kill_death_difference</th>\n",
       "      <th>p1_total_opening_kills</th>\n",
       "      <th>p1_total_opening_deaths</th>\n",
       "      <th>p1_opening_kill_ratio</th>\n",
       "      <th>p1_opening_kill_rating</th>\n",
       "      <th>p1_team_win_percent_after_first_kill</th>\n",
       "      <th>p1_first_kill_in_won_rounds</th>\n",
       "    </tr>\n",
       "  </thead>\n",
       "  <tbody>\n",
       "    <tr>\n",
       "      <th>count</th>\n",
       "      <td>1486.000000</td>\n",
       "      <td>1486.000000</td>\n",
       "      <td>1486.000000</td>\n",
       "      <td>1486.000000</td>\n",
       "      <td>1486.000000</td>\n",
       "      <td>1486.000000</td>\n",
       "      <td>1486.000000</td>\n",
       "      <td>1486.000000</td>\n",
       "      <td>1486.000000</td>\n",
       "      <td>1486.000000</td>\n",
       "      <td>...</td>\n",
       "      <td>1486.000000</td>\n",
       "      <td>1486.000000</td>\n",
       "      <td>1486.000000</td>\n",
       "      <td>1486.000000</td>\n",
       "      <td>1486.000000</td>\n",
       "      <td>1486.000000</td>\n",
       "      <td>1486.000000</td>\n",
       "      <td>1486.000000</td>\n",
       "      <td>1483.000000</td>\n",
       "      <td>1486.000000</td>\n",
       "    </tr>\n",
       "    <tr>\n",
       "      <th>mean</th>\n",
       "      <td>6808.845222</td>\n",
       "      <td>237.353297</td>\n",
       "      <td>45.623553</td>\n",
       "      <td>239.849260</td>\n",
       "      <td>0.990875</td>\n",
       "      <td>72.572678</td>\n",
       "      <td>5.262988</td>\n",
       "      <td>13.662853</td>\n",
       "      <td>364.810229</td>\n",
       "      <td>0.642517</td>\n",
       "      <td>...</td>\n",
       "      <td>0.932086</td>\n",
       "      <td>0.611440</td>\n",
       "      <td>135.219381</td>\n",
       "      <td>-7.228802</td>\n",
       "      <td>30.784657</td>\n",
       "      <td>32.582100</td>\n",
       "      <td>0.994125</td>\n",
       "      <td>0.944717</td>\n",
       "      <td>69.720432</td>\n",
       "      <td>13.517900</td>\n",
       "    </tr>\n",
       "    <tr>\n",
       "      <th>std</th>\n",
       "      <td>4031.792795</td>\n",
       "      <td>126.932320</td>\n",
       "      <td>9.999153</td>\n",
       "      <td>124.403672</td>\n",
       "      <td>0.237200</td>\n",
       "      <td>11.874143</td>\n",
       "      <td>2.626014</td>\n",
       "      <td>6.904256</td>\n",
       "      <td>185.463054</td>\n",
       "      <td>0.122343</td>\n",
       "      <td>...</td>\n",
       "      <td>0.296034</td>\n",
       "      <td>0.168446</td>\n",
       "      <td>76.687939</td>\n",
       "      <td>41.149168</td>\n",
       "      <td>20.000321</td>\n",
       "      <td>20.774523</td>\n",
       "      <td>0.823332</td>\n",
       "      <td>0.265029</td>\n",
       "      <td>19.357306</td>\n",
       "      <td>6.088321</td>\n",
       "    </tr>\n",
       "    <tr>\n",
       "      <th>min</th>\n",
       "      <td>29.000000</td>\n",
       "      <td>0.000000</td>\n",
       "      <td>0.000000</td>\n",
       "      <td>0.000000</td>\n",
       "      <td>0.000000</td>\n",
       "      <td>0.000000</td>\n",
       "      <td>0.000000</td>\n",
       "      <td>0.000000</td>\n",
       "      <td>0.000000</td>\n",
       "      <td>0.000000</td>\n",
       "      <td>...</td>\n",
       "      <td>0.000000</td>\n",
       "      <td>0.000000</td>\n",
       "      <td>0.000000</td>\n",
       "      <td>-127.000000</td>\n",
       "      <td>0.000000</td>\n",
       "      <td>0.000000</td>\n",
       "      <td>0.000000</td>\n",
       "      <td>0.000000</td>\n",
       "      <td>0.000000</td>\n",
       "      <td>0.000000</td>\n",
       "    </tr>\n",
       "    <tr>\n",
       "      <th>25%</th>\n",
       "      <td>3669.000000</td>\n",
       "      <td>148.000000</td>\n",
       "      <td>41.000000</td>\n",
       "      <td>156.000000</td>\n",
       "      <td>0.870000</td>\n",
       "      <td>66.600000</td>\n",
       "      <td>3.500000</td>\n",
       "      <td>9.000000</td>\n",
       "      <td>237.250000</td>\n",
       "      <td>0.580000</td>\n",
       "      <td>...</td>\n",
       "      <td>0.840000</td>\n",
       "      <td>0.560000</td>\n",
       "      <td>82.250000</td>\n",
       "      <td>-30.000000</td>\n",
       "      <td>16.000000</td>\n",
       "      <td>17.000000</td>\n",
       "      <td>0.710000</td>\n",
       "      <td>0.870000</td>\n",
       "      <td>66.700000</td>\n",
       "      <td>10.000000</td>\n",
       "    </tr>\n",
       "    <tr>\n",
       "      <th>50%</th>\n",
       "      <td>7938.000000</td>\n",
       "      <td>224.000000</td>\n",
       "      <td>46.700000</td>\n",
       "      <td>227.000000</td>\n",
       "      <td>0.960000</td>\n",
       "      <td>72.500000</td>\n",
       "      <td>4.800000</td>\n",
       "      <td>13.000000</td>\n",
       "      <td>347.000000</td>\n",
       "      <td>0.640000</td>\n",
       "      <td>...</td>\n",
       "      <td>0.930000</td>\n",
       "      <td>0.620000</td>\n",
       "      <td>134.000000</td>\n",
       "      <td>-7.000000</td>\n",
       "      <td>29.000000</td>\n",
       "      <td>31.000000</td>\n",
       "      <td>0.900000</td>\n",
       "      <td>0.960000</td>\n",
       "      <td>73.900000</td>\n",
       "      <td>13.200000</td>\n",
       "    </tr>\n",
       "    <tr>\n",
       "      <th>75%</th>\n",
       "      <td>9115.000000</td>\n",
       "      <td>307.000000</td>\n",
       "      <td>51.100000</td>\n",
       "      <td>310.750000</td>\n",
       "      <td>1.080000</td>\n",
       "      <td>78.975000</td>\n",
       "      <td>6.600000</td>\n",
       "      <td>18.000000</td>\n",
       "      <td>476.000000</td>\n",
       "      <td>0.690000</td>\n",
       "      <td>...</td>\n",
       "      <td>1.050000</td>\n",
       "      <td>0.680000</td>\n",
       "      <td>185.750000</td>\n",
       "      <td>9.000000</td>\n",
       "      <td>42.000000</td>\n",
       "      <td>45.000000</td>\n",
       "      <td>1.170000</td>\n",
       "      <td>1.050000</td>\n",
       "      <td>78.950000</td>\n",
       "      <td>17.000000</td>\n",
       "    </tr>\n",
       "    <tr>\n",
       "      <th>max</th>\n",
       "      <td>14359.000000</td>\n",
       "      <td>769.000000</td>\n",
       "      <td>81.800000</td>\n",
       "      <td>711.000000</td>\n",
       "      <td>3.890000</td>\n",
       "      <td>152.400000</td>\n",
       "      <td>21.000000</td>\n",
       "      <td>41.000000</td>\n",
       "      <td>1097.000000</td>\n",
       "      <td>1.670000</td>\n",
       "      <td>...</td>\n",
       "      <td>3.890000</td>\n",
       "      <td>1.670000</td>\n",
       "      <td>381.000000</td>\n",
       "      <td>222.000000</td>\n",
       "      <td>117.000000</td>\n",
       "      <td>111.000000</td>\n",
       "      <td>20.000000</td>\n",
       "      <td>1.780000</td>\n",
       "      <td>100.000000</td>\n",
       "      <td>50.000000</td>\n",
       "    </tr>\n",
       "  </tbody>\n",
       "</table>\n",
       "<p>8 rows × 25 columns</p>\n",
       "</div>"
      ],
      "text/plain": [
       "              p1_id  p1_total_kills  p1_headshots  p1_total_deaths  \\\n",
       "count   1486.000000     1486.000000   1486.000000      1486.000000   \n",
       "mean    6808.845222      237.353297     45.623553       239.849260   \n",
       "std     4031.792795      126.932320      9.999153       124.403672   \n",
       "min       29.000000        0.000000      0.000000         0.000000   \n",
       "25%     3669.000000      148.000000     41.000000       156.000000   \n",
       "50%     7938.000000      224.000000     46.700000       227.000000   \n",
       "75%     9115.000000      307.000000     51.100000       310.750000   \n",
       "max    14359.000000      769.000000     81.800000       711.000000   \n",
       "\n",
       "       p1_kd_ratio  p1_damage_per_round  p1_grenade_damage_per_round  \\\n",
       "count  1486.000000          1486.000000                  1486.000000   \n",
       "mean      0.990875            72.572678                     5.262988   \n",
       "std       0.237200            11.874143                     2.626014   \n",
       "min       0.000000             0.000000                     0.000000   \n",
       "25%       0.870000            66.600000                     3.500000   \n",
       "50%       0.960000            72.500000                     4.800000   \n",
       "75%       1.080000            78.975000                     6.600000   \n",
       "max       3.890000           152.400000                    21.000000   \n",
       "\n",
       "       p1_maps_played  p1_rounds_played  p1_kills_per_round  ...  \\\n",
       "count     1486.000000       1486.000000         1486.000000  ...   \n",
       "mean        13.662853        364.810229            0.642517  ...   \n",
       "std          6.904256        185.463054            0.122343  ...   \n",
       "min          0.000000          0.000000            0.000000  ...   \n",
       "25%          9.000000        237.250000            0.580000  ...   \n",
       "50%         13.000000        347.000000            0.640000  ...   \n",
       "75%         18.000000        476.000000            0.690000  ...   \n",
       "max         41.000000       1097.000000            1.670000  ...   \n",
       "\n",
       "       p1_kill_death  p1_kill_round  p1_rounds_with_kills  \\\n",
       "count    1486.000000    1486.000000           1486.000000   \n",
       "mean        0.932086       0.611440            135.219381   \n",
       "std         0.296034       0.168446             76.687939   \n",
       "min         0.000000       0.000000              0.000000   \n",
       "25%         0.840000       0.560000             82.250000   \n",
       "50%         0.930000       0.620000            134.000000   \n",
       "75%         1.050000       0.680000            185.750000   \n",
       "max         3.890000       1.670000            381.000000   \n",
       "\n",
       "       p1_kill_death_difference  p1_total_opening_kills  \\\n",
       "count               1486.000000             1486.000000   \n",
       "mean                  -7.228802               30.784657   \n",
       "std                   41.149168               20.000321   \n",
       "min                 -127.000000                0.000000   \n",
       "25%                  -30.000000               16.000000   \n",
       "50%                   -7.000000               29.000000   \n",
       "75%                    9.000000               42.000000   \n",
       "max                  222.000000              117.000000   \n",
       "\n",
       "       p1_total_opening_deaths  p1_opening_kill_ratio  p1_opening_kill_rating  \\\n",
       "count              1486.000000            1486.000000             1486.000000   \n",
       "mean                 32.582100               0.994125                0.944717   \n",
       "std                  20.774523               0.823332                0.265029   \n",
       "min                   0.000000               0.000000                0.000000   \n",
       "25%                  17.000000               0.710000                0.870000   \n",
       "50%                  31.000000               0.900000                0.960000   \n",
       "75%                  45.000000               1.170000                1.050000   \n",
       "max                 111.000000              20.000000                1.780000   \n",
       "\n",
       "       p1_team_win_percent_after_first_kill  p1_first_kill_in_won_rounds  \n",
       "count                           1483.000000                  1486.000000  \n",
       "mean                              69.720432                    13.517900  \n",
       "std                               19.357306                     6.088321  \n",
       "min                                0.000000                     0.000000  \n",
       "25%                               66.700000                    10.000000  \n",
       "50%                               73.900000                    13.200000  \n",
       "75%                               78.950000                    17.000000  \n",
       "max                              100.000000                    50.000000  \n",
       "\n",
       "[8 rows x 25 columns]"
      ]
     },
     "execution_count": 12,
     "metadata": {},
     "output_type": "execute_result"
    }
   ],
   "source": [
    "players_feats.loc[:, players_feats.columns.str.contains('|'.join(['p1_']))].describe()"
   ]
  },
  {
   "cell_type": "markdown",
   "metadata": {},
   "source": [
    "Все значения численные, что логично. Разброс средних значений (идентификатор **p1_id** в рассмотрение не берем) не колоссальный, но большой. Несколько порядков. Далее данные значения можно будет стандартизировать. Вернемся к вопросу стандартизации после проверки признаков на мультиколлинеарность."
   ]
  },
  {
   "cell_type": "markdown",
   "metadata": {},
   "source": [
    "Проверим на наличие пропусков."
   ]
  },
  {
   "cell_type": "code",
   "execution_count": 13,
   "metadata": {},
   "outputs": [
    {
     "data": {
      "text/plain": [
       "18"
      ]
     },
     "execution_count": 13,
     "metadata": {},
     "output_type": "execute_result"
    }
   ],
   "source": [
    "players_feats.isna().sum().sum()"
   ]
  },
  {
   "cell_type": "markdown",
   "metadata": {},
   "source": [
    "Немного, но есть. Выведем часть таблицы, в которых они встречаются."
   ]
  },
  {
   "cell_type": "code",
   "execution_count": 14,
   "metadata": {},
   "outputs": [
    {
     "data": {
      "text/html": [
       "<div>\n",
       "<style scoped>\n",
       "    .dataframe tbody tr th:only-of-type {\n",
       "        vertical-align: middle;\n",
       "    }\n",
       "\n",
       "    .dataframe tbody tr th {\n",
       "        vertical-align: top;\n",
       "    }\n",
       "\n",
       "    .dataframe thead th {\n",
       "        text-align: right;\n",
       "    }\n",
       "</style>\n",
       "<table border=\"1\" class=\"dataframe\">\n",
       "  <thead>\n",
       "    <tr style=\"text-align: right;\">\n",
       "      <th></th>\n",
       "      <th>p1_team_win_percent_after_first_kill</th>\n",
       "      <th>p2_team_win_percent_after_first_kill</th>\n",
       "      <th>p3_team_win_percent_after_first_kill</th>\n",
       "      <th>p4_team_win_percent_after_first_kill</th>\n",
       "      <th>p5_team_win_percent_after_first_kill</th>\n",
       "    </tr>\n",
       "  </thead>\n",
       "  <tbody>\n",
       "    <tr>\n",
       "      <th>13</th>\n",
       "      <td>80.0</td>\n",
       "      <td>100.0</td>\n",
       "      <td>0.0</td>\n",
       "      <td>50.0</td>\n",
       "      <td>NaN</td>\n",
       "    </tr>\n",
       "    <tr>\n",
       "      <th>282</th>\n",
       "      <td>71.4</td>\n",
       "      <td>NaN</td>\n",
       "      <td>100.0</td>\n",
       "      <td>100.0</td>\n",
       "      <td>73.9</td>\n",
       "    </tr>\n",
       "    <tr>\n",
       "      <th>309</th>\n",
       "      <td>NaN</td>\n",
       "      <td>0.0</td>\n",
       "      <td>55.6</td>\n",
       "      <td>0.0</td>\n",
       "      <td>87.5</td>\n",
       "    </tr>\n",
       "    <tr>\n",
       "      <th>313</th>\n",
       "      <td>0.0</td>\n",
       "      <td>76.0</td>\n",
       "      <td>66.7</td>\n",
       "      <td>NaN</td>\n",
       "      <td>25.0</td>\n",
       "    </tr>\n",
       "    <tr>\n",
       "      <th>352</th>\n",
       "      <td>0.0</td>\n",
       "      <td>76.0</td>\n",
       "      <td>66.7</td>\n",
       "      <td>NaN</td>\n",
       "      <td>25.0</td>\n",
       "    </tr>\n",
       "    <tr>\n",
       "      <th>507</th>\n",
       "      <td>38.5</td>\n",
       "      <td>77.8</td>\n",
       "      <td>75.9</td>\n",
       "      <td>NaN</td>\n",
       "      <td>56.2</td>\n",
       "    </tr>\n",
       "    <tr>\n",
       "      <th>615</th>\n",
       "      <td>81.6</td>\n",
       "      <td>0.0</td>\n",
       "      <td>NaN</td>\n",
       "      <td>76.2</td>\n",
       "      <td>81.0</td>\n",
       "    </tr>\n",
       "    <tr>\n",
       "      <th>723</th>\n",
       "      <td>50.0</td>\n",
       "      <td>NaN</td>\n",
       "      <td>60.0</td>\n",
       "      <td>85.7</td>\n",
       "      <td>66.7</td>\n",
       "    </tr>\n",
       "    <tr>\n",
       "      <th>758</th>\n",
       "      <td>100.0</td>\n",
       "      <td>0.0</td>\n",
       "      <td>33.3</td>\n",
       "      <td>NaN</td>\n",
       "      <td>NaN</td>\n",
       "    </tr>\n",
       "    <tr>\n",
       "      <th>771</th>\n",
       "      <td>100.0</td>\n",
       "      <td>50.0</td>\n",
       "      <td>NaN</td>\n",
       "      <td>100.0</td>\n",
       "      <td>100.0</td>\n",
       "    </tr>\n",
       "    <tr>\n",
       "      <th>951</th>\n",
       "      <td>75.0</td>\n",
       "      <td>0.0</td>\n",
       "      <td>100.0</td>\n",
       "      <td>100.0</td>\n",
       "      <td>NaN</td>\n",
       "    </tr>\n",
       "    <tr>\n",
       "      <th>1270</th>\n",
       "      <td>NaN</td>\n",
       "      <td>100.0</td>\n",
       "      <td>NaN</td>\n",
       "      <td>0.0</td>\n",
       "      <td>100.0</td>\n",
       "    </tr>\n",
       "    <tr>\n",
       "      <th>1289</th>\n",
       "      <td>NaN</td>\n",
       "      <td>71.8</td>\n",
       "      <td>83.3</td>\n",
       "      <td>80.6</td>\n",
       "      <td>80.0</td>\n",
       "    </tr>\n",
       "    <tr>\n",
       "      <th>1290</th>\n",
       "      <td>50.0</td>\n",
       "      <td>100.0</td>\n",
       "      <td>NaN</td>\n",
       "      <td>100.0</td>\n",
       "      <td>66.7</td>\n",
       "    </tr>\n",
       "    <tr>\n",
       "      <th>1307</th>\n",
       "      <td>0.0</td>\n",
       "      <td>NaN</td>\n",
       "      <td>50.0</td>\n",
       "      <td>75.0</td>\n",
       "      <td>83.3</td>\n",
       "    </tr>\n",
       "    <tr>\n",
       "      <th>1367</th>\n",
       "      <td>0.0</td>\n",
       "      <td>69.0</td>\n",
       "      <td>72.5</td>\n",
       "      <td>68.0</td>\n",
       "      <td>NaN</td>\n",
       "    </tr>\n",
       "  </tbody>\n",
       "</table>\n",
       "</div>"
      ],
      "text/plain": [
       "      p1_team_win_percent_after_first_kill  \\\n",
       "13                                    80.0   \n",
       "282                                   71.4   \n",
       "309                                    NaN   \n",
       "313                                    0.0   \n",
       "352                                    0.0   \n",
       "507                                   38.5   \n",
       "615                                   81.6   \n",
       "723                                   50.0   \n",
       "758                                  100.0   \n",
       "771                                  100.0   \n",
       "951                                   75.0   \n",
       "1270                                   NaN   \n",
       "1289                                   NaN   \n",
       "1290                                  50.0   \n",
       "1307                                   0.0   \n",
       "1367                                   0.0   \n",
       "\n",
       "      p2_team_win_percent_after_first_kill  \\\n",
       "13                                   100.0   \n",
       "282                                    NaN   \n",
       "309                                    0.0   \n",
       "313                                   76.0   \n",
       "352                                   76.0   \n",
       "507                                   77.8   \n",
       "615                                    0.0   \n",
       "723                                    NaN   \n",
       "758                                    0.0   \n",
       "771                                   50.0   \n",
       "951                                    0.0   \n",
       "1270                                 100.0   \n",
       "1289                                  71.8   \n",
       "1290                                 100.0   \n",
       "1307                                   NaN   \n",
       "1367                                  69.0   \n",
       "\n",
       "      p3_team_win_percent_after_first_kill  \\\n",
       "13                                     0.0   \n",
       "282                                  100.0   \n",
       "309                                   55.6   \n",
       "313                                   66.7   \n",
       "352                                   66.7   \n",
       "507                                   75.9   \n",
       "615                                    NaN   \n",
       "723                                   60.0   \n",
       "758                                   33.3   \n",
       "771                                    NaN   \n",
       "951                                  100.0   \n",
       "1270                                   NaN   \n",
       "1289                                  83.3   \n",
       "1290                                   NaN   \n",
       "1307                                  50.0   \n",
       "1367                                  72.5   \n",
       "\n",
       "      p4_team_win_percent_after_first_kill  \\\n",
       "13                                    50.0   \n",
       "282                                  100.0   \n",
       "309                                    0.0   \n",
       "313                                    NaN   \n",
       "352                                    NaN   \n",
       "507                                    NaN   \n",
       "615                                   76.2   \n",
       "723                                   85.7   \n",
       "758                                    NaN   \n",
       "771                                  100.0   \n",
       "951                                  100.0   \n",
       "1270                                   0.0   \n",
       "1289                                  80.6   \n",
       "1290                                 100.0   \n",
       "1307                                  75.0   \n",
       "1367                                  68.0   \n",
       "\n",
       "      p5_team_win_percent_after_first_kill  \n",
       "13                                     NaN  \n",
       "282                                   73.9  \n",
       "309                                   87.5  \n",
       "313                                   25.0  \n",
       "352                                   25.0  \n",
       "507                                   56.2  \n",
       "615                                   81.0  \n",
       "723                                   66.7  \n",
       "758                                    NaN  \n",
       "771                                  100.0  \n",
       "951                                    NaN  \n",
       "1270                                 100.0  \n",
       "1289                                  80.0  \n",
       "1290                                  66.7  \n",
       "1307                                  83.3  \n",
       "1367                                   NaN  "
      ]
     },
     "execution_count": 14,
     "metadata": {},
     "output_type": "execute_result"
    }
   ],
   "source": [
    "players_feats.loc[players_feats.T.isna().sum() > 0, players_feats.isna().sum() > 0]"
   ]
  },
  {
   "cell_type": "markdown",
   "metadata": {},
   "source": [
    "Все пропуски в столбцах с одной и той же метрикой для всех пятерых игроков. Выведем для них описательную статистику."
   ]
  },
  {
   "cell_type": "code",
   "execution_count": 15,
   "metadata": {},
   "outputs": [
    {
     "data": {
      "text/html": [
       "<div>\n",
       "<style scoped>\n",
       "    .dataframe tbody tr th:only-of-type {\n",
       "        vertical-align: middle;\n",
       "    }\n",
       "\n",
       "    .dataframe tbody tr th {\n",
       "        vertical-align: top;\n",
       "    }\n",
       "\n",
       "    .dataframe thead th {\n",
       "        text-align: right;\n",
       "    }\n",
       "</style>\n",
       "<table border=\"1\" class=\"dataframe\">\n",
       "  <thead>\n",
       "    <tr style=\"text-align: right;\">\n",
       "      <th></th>\n",
       "      <th>p1_team_win_percent_after_first_kill</th>\n",
       "      <th>p2_team_win_percent_after_first_kill</th>\n",
       "      <th>p3_team_win_percent_after_first_kill</th>\n",
       "      <th>p4_team_win_percent_after_first_kill</th>\n",
       "      <th>p5_team_win_percent_after_first_kill</th>\n",
       "    </tr>\n",
       "  </thead>\n",
       "  <tbody>\n",
       "    <tr>\n",
       "      <th>count</th>\n",
       "      <td>1483.000000</td>\n",
       "      <td>1483.000000</td>\n",
       "      <td>1482.000000</td>\n",
       "      <td>1482.000000</td>\n",
       "      <td>1482.000000</td>\n",
       "    </tr>\n",
       "    <tr>\n",
       "      <th>mean</th>\n",
       "      <td>69.720432</td>\n",
       "      <td>68.732974</td>\n",
       "      <td>70.026248</td>\n",
       "      <td>70.920310</td>\n",
       "      <td>69.634615</td>\n",
       "    </tr>\n",
       "    <tr>\n",
       "      <th>std</th>\n",
       "      <td>19.357306</td>\n",
       "      <td>19.283827</td>\n",
       "      <td>17.998365</td>\n",
       "      <td>18.424983</td>\n",
       "      <td>20.948070</td>\n",
       "    </tr>\n",
       "    <tr>\n",
       "      <th>min</th>\n",
       "      <td>0.000000</td>\n",
       "      <td>0.000000</td>\n",
       "      <td>0.000000</td>\n",
       "      <td>0.000000</td>\n",
       "      <td>0.000000</td>\n",
       "    </tr>\n",
       "    <tr>\n",
       "      <th>25%</th>\n",
       "      <td>66.700000</td>\n",
       "      <td>65.450000</td>\n",
       "      <td>66.700000</td>\n",
       "      <td>66.700000</td>\n",
       "      <td>66.700000</td>\n",
       "    </tr>\n",
       "    <tr>\n",
       "      <th>50%</th>\n",
       "      <td>73.900000</td>\n",
       "      <td>73.000000</td>\n",
       "      <td>73.300000</td>\n",
       "      <td>74.100000</td>\n",
       "      <td>74.250000</td>\n",
       "    </tr>\n",
       "    <tr>\n",
       "      <th>75%</th>\n",
       "      <td>78.950000</td>\n",
       "      <td>78.700000</td>\n",
       "      <td>79.500000</td>\n",
       "      <td>80.000000</td>\n",
       "      <td>81.075000</td>\n",
       "    </tr>\n",
       "    <tr>\n",
       "      <th>max</th>\n",
       "      <td>100.000000</td>\n",
       "      <td>100.000000</td>\n",
       "      <td>100.000000</td>\n",
       "      <td>100.000000</td>\n",
       "      <td>100.000000</td>\n",
       "    </tr>\n",
       "  </tbody>\n",
       "</table>\n",
       "</div>"
      ],
      "text/plain": [
       "       p1_team_win_percent_after_first_kill  \\\n",
       "count                           1483.000000   \n",
       "mean                              69.720432   \n",
       "std                               19.357306   \n",
       "min                                0.000000   \n",
       "25%                               66.700000   \n",
       "50%                               73.900000   \n",
       "75%                               78.950000   \n",
       "max                              100.000000   \n",
       "\n",
       "       p2_team_win_percent_after_first_kill  \\\n",
       "count                           1483.000000   \n",
       "mean                              68.732974   \n",
       "std                               19.283827   \n",
       "min                                0.000000   \n",
       "25%                               65.450000   \n",
       "50%                               73.000000   \n",
       "75%                               78.700000   \n",
       "max                              100.000000   \n",
       "\n",
       "       p3_team_win_percent_after_first_kill  \\\n",
       "count                           1482.000000   \n",
       "mean                              70.026248   \n",
       "std                               17.998365   \n",
       "min                                0.000000   \n",
       "25%                               66.700000   \n",
       "50%                               73.300000   \n",
       "75%                               79.500000   \n",
       "max                              100.000000   \n",
       "\n",
       "       p4_team_win_percent_after_first_kill  \\\n",
       "count                           1482.000000   \n",
       "mean                              70.920310   \n",
       "std                               18.424983   \n",
       "min                                0.000000   \n",
       "25%                               66.700000   \n",
       "50%                               74.100000   \n",
       "75%                               80.000000   \n",
       "max                              100.000000   \n",
       "\n",
       "       p5_team_win_percent_after_first_kill  \n",
       "count                           1482.000000  \n",
       "mean                              69.634615  \n",
       "std                               20.948070  \n",
       "min                                0.000000  \n",
       "25%                               66.700000  \n",
       "50%                               74.250000  \n",
       "75%                               81.075000  \n",
       "max                              100.000000  "
      ]
     },
     "execution_count": 15,
     "metadata": {},
     "output_type": "execute_result"
    }
   ],
   "source": [
    "players_feats.loc[:, players_feats.isna().sum() > 0].describe()"
   ]
  },
  {
   "cell_type": "markdown",
   "metadata": {},
   "source": [
    "Разброс значений достаточной большой. Имеет тот же порядок, что и среднее значение. Заполнение пропуска средним значением по всему признаку может привести к внесению большой ошибки. Далее при подготовке данных заменим пропуски на средние значения соответствующих признаков, вычисленные для наиболее близких по параметрам игрокам."
   ]
  },
  {
   "cell_type": "markdown",
   "metadata": {},
   "source": [
    "Сохраним в список имена столбцов с характеристиками игроков, далее он понадобится для объединения таблиц."
   ]
  },
  {
   "cell_type": "code",
   "execution_count": 16,
   "metadata": {},
   "outputs": [
    {
     "data": {
      "text/plain": [
       "Index(['p1_id', 'p1_total_kills', 'p1_headshots', 'p1_total_deaths',\n",
       "       'p1_kd_ratio', 'p1_damage_per_round', 'p1_grenade_damage_per_round',\n",
       "       'p1_maps_played', 'p1_rounds_played', 'p1_kills_per_round',\n",
       "       ...\n",
       "       'p5_kill_death', 'p5_kill_round', 'p5_rounds_with_kills',\n",
       "       'p5_kill_death_difference', 'p5_total_opening_kills',\n",
       "       'p5_total_opening_deaths', 'p5_opening_kill_ratio',\n",
       "       'p5_opening_kill_rating', 'p5_team_win_percent_after_first_kill',\n",
       "       'p5_first_kill_in_won_rounds'],\n",
       "      dtype='object', length=125)"
      ]
     },
     "execution_count": 16,
     "metadata": {},
     "output_type": "execute_result"
    }
   ],
   "source": [
    "metric_column_names = players_feats.columns[players_feats.columns.str.contains('|'.join(['1', '2', '3', '4', '5']))]\n",
    "metric_column_names"
   ]
  },
  {
   "cell_type": "markdown",
   "metadata": {
    "tags": []
   },
   "source": [
    "## 2 Подготовка данных"
   ]
  },
  {
   "cell_type": "markdown",
   "metadata": {
    "tags": []
   },
   "source": [
    "### 2.1 Объединение таблиц"
   ]
  },
  {
   "cell_type": "markdown",
   "metadata": {},
   "source": [
    "Соберем результирующие трейн и тест. Из объединенных таблиц удалим столбцы с идентификаторами команд и игроков, чтобы данные были максимально обезличенные (хотя, это дискусионная тема), а также дублирующие столбцы, появившиеся в результате объединения. "
   ]
  },
  {
   "cell_type": "code",
   "execution_count": 17,
   "metadata": {},
   "outputs": [],
   "source": [
    "players_feats_team1 = players_feats.rename(columns={name: 'team1_' + name for name in metric_column_names})\n",
    "players_feats_team2 = players_feats.rename(columns={name: 'team2_' + name for name in metric_column_names})"
   ]
  },
  {
   "cell_type": "code",
   "execution_count": 18,
   "metadata": {},
   "outputs": [],
   "source": [
    "# Объединение и удаление столбцов\n",
    "X_train = pd.merge(train, players_feats_team1, left_on=['team1_id', 'map_id'], right_on=['team_id', 'map_id'], suffixes=('_team1', ''))\\\n",
    "    .drop(columns=['team_id', 'team1_id', 'map_name_team1'])\n",
    "X_train = pd.merge(X_train, players_feats_team2, left_on=['team2_id', 'map_id'], right_on=['team_id', 'map_id'], suffixes=('_team2', ''))\\\n",
    "    .drop(columns=['team_id', 'team2_id', 'map_name_team2']).set_index('map_id')\n",
    "\n",
    "# Удаление столбцов с id игроков\n",
    "X_train.drop(columns=X_train.columns[X_train.columns.str.contains('|'.join(['_id']))], inplace=True)\n",
    "\n",
    "# Таргет\n",
    "y_train = X_train.who_win\n",
    "del X_train['who_win']"
   ]
  },
  {
   "cell_type": "code",
   "execution_count": 19,
   "metadata": {},
   "outputs": [],
   "source": [
    "X_test = pd.merge(test, players_feats_team1, left_on=['team1_id', 'map_id'], right_on=['team_id', 'map_id'], suffixes=('_team1', '')).\\\n",
    "    drop(columns=['team_id', 'team1_id', 'map_name_team1'])\n",
    "X_test = pd.merge(X_test, players_feats_team2, left_on=['team2_id', 'map_id'], right_on=['team_id', 'map_id'], suffixes=('_team2', '')).\\\n",
    "    drop(columns=['team2_id', 'map_name_team2', 'team_id']).set_index('map_id')\n",
    "\n",
    "X_test.drop(columns=X_test.columns[X_test.columns.str.contains('|'.join(['_id']))], inplace=True)\n",
    "\n",
    "del players_feats_team1, players_feats_team2"
   ]
  },
  {
   "cell_type": "markdown",
   "metadata": {},
   "source": [
    "Проверим размеры полученных датафреймов."
   ]
  },
  {
   "cell_type": "code",
   "execution_count": 20,
   "metadata": {},
   "outputs": [
    {
     "data": {
      "text/plain": [
       "((30, 241), (713,), (30, 241))"
      ]
     },
     "execution_count": 20,
     "metadata": {},
     "output_type": "execute_result"
    }
   ],
   "source": [
    "X_test.shape, y_train.shape, X_test.shape"
   ]
  },
  {
   "cell_type": "code",
   "execution_count": 21,
   "metadata": {},
   "outputs": [
    {
     "data": {
      "text/plain": [
       "Index(['map_name'], dtype='object')"
      ]
     },
     "execution_count": 21,
     "metadata": {},
     "output_type": "execute_result"
    }
   ],
   "source": [
    "X_train.columns[~X_train.columns.str.contains('|'.join(['team1_', 'team2_']))]"
   ]
  },
  {
   "cell_type": "code",
   "execution_count": 22,
   "metadata": {},
   "outputs": [
    {
     "data": {
      "text/plain": [
       "Index(['map_name'], dtype='object')"
      ]
     },
     "execution_count": 22,
     "metadata": {},
     "output_type": "execute_result"
    }
   ],
   "source": [
    "X_test.columns[~X_test.columns.str.contains('|'.join(['team1_', 'team2_']))]"
   ]
  },
  {
   "cell_type": "markdown",
   "metadata": {},
   "source": [
    "В трейне и тесте по 241 столбцу: 240 столбцов с метриками игроков и 1 столбец с названием карты. Таргет в отдельной переменной."
   ]
  },
  {
   "cell_type": "markdown",
   "metadata": {},
   "source": [
    "Проверим, как при объединении распределились пропуски из таблицы метрик игроков между трейном и тестом."
   ]
  },
  {
   "cell_type": "code",
   "execution_count": 23,
   "metadata": {},
   "outputs": [
    {
     "data": {
      "text/plain": [
       "18"
      ]
     },
     "execution_count": 23,
     "metadata": {},
     "output_type": "execute_result"
    }
   ],
   "source": [
    "X_train.isna().sum().sum()"
   ]
  },
  {
   "cell_type": "code",
   "execution_count": 24,
   "metadata": {},
   "outputs": [
    {
     "data": {
      "text/plain": [
       "0"
      ]
     },
     "execution_count": 24,
     "metadata": {},
     "output_type": "execute_result"
    }
   ],
   "source": [
    "X_test.isna().sum().sum()"
   ]
  },
  {
   "cell_type": "markdown",
   "metadata": {},
   "source": [
    "Все пропуски оказались в трейне."
   ]
  },
  {
   "cell_type": "markdown",
   "metadata": {
    "tags": []
   },
   "source": [
    "### 2.2 Кодирование признаков\n"
   ]
  },
  {
   "cell_type": "markdown",
   "metadata": {},
   "source": [
    "Категориальный признак матча с именем карты **map_name** требует кодирования.\n",
    "\n",
    "Сперва убедимся, что его уникальные значения в трейне и тесте совпадают."
   ]
  },
  {
   "cell_type": "code",
   "execution_count": 25,
   "metadata": {},
   "outputs": [
    {
     "data": {
      "text/plain": [
       "(set(), set())"
      ]
     },
     "execution_count": 25,
     "metadata": {},
     "output_type": "execute_result"
    }
   ],
   "source": [
    "set(X_train.map_name) - set(X_test.map_name), set(X_test.map_name) - set(X_train.map_name)"
   ]
  },
  {
   "cell_type": "markdown",
   "metadata": {},
   "source": [
    "Так и есть. Ниличие новых значений в **map_name** тестовой таблицы не станет для нас сюрпризом."
   ]
  },
  {
   "cell_type": "markdown",
   "metadata": {},
   "source": [
    "Соревновательных карт в CS:GO относительно немного, поэтому применим прямое кодирование (One-Hot Encoding)."
   ]
  },
  {
   "cell_type": "code",
   "execution_count": 26,
   "metadata": {},
   "outputs": [],
   "source": [
    "X_train_test = pd.concat([X_train, X_test], axis=0)\n",
    "X_train_test = pd.get_dummies(X_train_test, columns=['map_name'], drop_first=True)\n",
    "X_train = X_train_test.loc[X_train.index, :]\n",
    "X_test = X_train_test.loc[X_test.index, :]\n",
    "del X_train_test"
   ]
  },
  {
   "cell_type": "markdown",
   "metadata": {},
   "source": [
    "Новые признаки, заменяющие **map_name**."
   ]
  },
  {
   "cell_type": "code",
   "execution_count": 27,
   "metadata": {},
   "outputs": [
    {
     "name": "stdout",
     "output_type": "stream",
     "text": [
      "map_name_Dust2\n",
      "map_name_Inferno\n",
      "map_name_Mirage\n",
      "map_name_Nuke\n",
      "map_name_Overpass\n",
      "map_name_Vertigo\n"
     ]
    }
   ],
   "source": [
    "print(*X_train.columns[~X_train.columns.str.contains('|'.join(['team1_', 'team2_']))], sep='\\n')"
   ]
  },
  {
   "cell_type": "markdown",
   "metadata": {
    "tags": []
   },
   "source": [
    "### 2.3 Корреляция признаков"
   ]
  },
  {
   "cell_type": "markdown",
   "metadata": {},
   "source": [
    "Вычислим матрицу коэффициентов корреляции Пирсона для признаков тренировочной таблцы, визуализируем ее в виде тепловой карты."
   ]
  },
  {
   "cell_type": "code",
   "execution_count": 28,
   "metadata": {},
   "outputs": [],
   "source": [
    "X_train_corr = X_train.corr(method='pearson') - np.identity(X_train.shape[1])"
   ]
  },
  {
   "cell_type": "code",
   "execution_count": 29,
   "metadata": {},
   "outputs": [
    {
     "data": {
      "image/png": "[encoded data removed]",
      "text/plain": [
       "<Figure size 864x720 with 2 Axes>"
      ]
     },
     "metadata": {
      "needs_background": "light"
     },
     "output_type": "display_data"
    }
   ],
   "source": [
    "plt.subplots(figsize=(12, 10))\n",
    "sns.heatmap(X_train_corr, cmap=\"YlGnBu\", annot=False, xticklabels=[], yticklabels=[])\n",
    "plt.show()"
   ]
  },
  {
   "cell_type": "markdown",
   "metadata": {},
   "source": [
    "Некоторые признаки очень сильно коррелируют."
   ]
  },
  {
   "cell_type": "code",
   "execution_count": 30,
   "metadata": {},
   "outputs": [
    {
     "name": "stdout",
     "output_type": "stream",
     "text": [
      "Пр. 1: team1_p1_total_deaths     пр. 2: team1_p1_rounds_played    к.к. Пирсона: 0.99\n",
      "Пр. 1: team1_p1_maps_played      пр. 2: team1_p1_rounds_played    к.к. Пирсона: 0.99\n",
      "Пр. 1: team1_p1_rounds_played    пр. 2: team1_p1_total_deaths     к.к. Пирсона: 0.99\n",
      "Пр. 1: team1_p1_rounds_played    пр. 2: team1_p1_maps_played      к.к. Пирсона: 0.99\n",
      "Пр. 1: team1_p2_maps_played      пр. 2: team1_p2_rounds_played    к.к. Пирсона: 0.99\n",
      "Пр. 1: team1_p2_rounds_played    пр. 2: team1_p2_maps_played      к.к. Пирсона: 0.99\n",
      "Пр. 1: team1_p3_maps_played      пр. 2: team1_p3_rounds_played    к.к. Пирсона: 0.99\n",
      "Пр. 1: team1_p3_rounds_played    пр. 2: team1_p3_maps_played      к.к. Пирсона: 0.99\n",
      "Пр. 1: team1_p4_maps_played      пр. 2: team1_p4_rounds_played    к.к. Пирсона: 0.99\n",
      "Пр. 1: team1_p4_rounds_played    пр. 2: team1_p4_maps_played      к.к. Пирсона: 0.99\n",
      "Пр. 1: team1_p5_maps_played      пр. 2: team1_p5_rounds_played    к.к. Пирсона: 0.99\n",
      "Пр. 1: team1_p5_rounds_played    пр. 2: team1_p5_maps_played      к.к. Пирсона: 0.99\n",
      "Пр. 1: team2_p1_total_deaths     пр. 2: team2_p1_rounds_played    к.к. Пирсона: 0.99\n",
      "Пр. 1: team2_p1_maps_played      пр. 2: team2_p1_rounds_played    к.к. Пирсона: 0.99\n",
      "Пр. 1: team2_p1_rounds_played    пр. 2: team2_p1_total_deaths     к.к. Пирсона: 0.99\n",
      "Пр. 1: team2_p1_rounds_played    пр. 2: team2_p1_maps_played      к.к. Пирсона: 0.99\n",
      "Пр. 1: team2_p2_maps_played      пр. 2: team2_p2_rounds_played    к.к. Пирсона: 0.99\n",
      "Пр. 1: team2_p2_rounds_played    пр. 2: team2_p2_maps_played      к.к. Пирсона: 0.99\n",
      "Пр. 1: team2_p3_maps_played      пр. 2: team2_p3_rounds_played    к.к. Пирсона: 0.99\n",
      "Пр. 1: team2_p3_rounds_played    пр. 2: team2_p3_maps_played      к.к. Пирсона: 0.99\n",
      "Пр. 1: team2_p4_maps_played      пр. 2: team2_p4_rounds_played    к.к. Пирсона: 0.99\n",
      "Пр. 1: team2_p4_rounds_played    пр. 2: team2_p4_maps_played      к.к. Пирсона: 0.99\n",
      "Пр. 1: team2_p5_maps_played      пр. 2: team2_p5_rounds_played    к.к. Пирсона: 0.99\n",
      "Пр. 1: team2_p5_rounds_played    пр. 2: team2_p5_maps_played      к.к. Пирсона: 0.99\n"
     ]
    }
   ],
   "source": [
    "corr_trash = 0.99\n",
    "\n",
    "for idx in X_train_corr.index:\n",
    "    for col in X_train_corr.columns:\n",
    "        corr = X_train_corr.loc[idx, col]\n",
    "        if corr > corr_trash:\n",
    "            print(f'Пр. 1: {idx :<25} пр. 2: {col :<25} к.к. Пирсона: {corr :.2}')"
   ]
  },
  {
   "cell_type": "markdown",
   "metadata": {},
   "source": [
    "Некоторые пары признаков имеют линейный коэффициент корреляции близкий к 1. В основном это пары вроде **teamX_pX_maps_played** - **teamX_pX_rounds_played** или **teamX_pX_rounds_played** - **teamX_pX_total_deaths** и т.п. С одной стороны такие признаки можно удалить, т.к. их наличие может усложнить обучение и интерпретацию линейных моделей. С другой стороны первостепенная задача не интерпретируемость модели, а правильное предсказание победителя. К тому же обучение линейных моделей на коррелированных признаках достигается использованием регуляризации, а на качество обучения случайного леса при правильном подборе гиперпараметров мультиколлинеарность практически не влияет.\n",
    "\n",
    "Пока не будем удалять из модели сильно коррелирующие признаки."
   ]
  },
  {
   "cell_type": "markdown",
   "metadata": {},
   "source": [
    "Вычислим корреляцию признаков трейна с целевым признаком. Выведем 3 признака и модулм их коэффициентов корреляции, для которых модули коэффициентов максимальны."
   ]
  },
  {
   "cell_type": "code",
   "execution_count": 31,
   "metadata": {},
   "outputs": [
    {
     "data": {
      "text/plain": [
       "[('team2_p3_kill_death', 0.18),\n",
       " ('team2_p3_kill_round', 0.17),\n",
       " ('team2_p3_opening_kill_rating', 0.15)]"
      ]
     },
     "execution_count": 31,
     "metadata": {},
     "output_type": "execute_result"
    }
   ],
   "source": [
    "sorted([(col, round(abs(y_train.corr(X_train[col])), 2)) for col in X_train], key=lambda x: x[1], reverse=True)[0:3]"
   ]
  },
  {
   "cell_type": "markdown",
   "metadata": {},
   "source": [
    "Неудивительно, что отношение количества убийств к смертям хорошо коррелирует с победой в матче. Но даже максимальная корреляция невелика. По крайней мере по этой причине утечка данных не грозит."
   ]
  },
  {
   "cell_type": "markdown",
   "metadata": {
    "tags": []
   },
   "source": [
    "### 2.4 Стандартизация признаков"
   ]
  },
  {
   "cell_type": "markdown",
   "metadata": {},
   "source": [
    "Для деревянных моделей стандартизация факторов необязательна. Но для регуляризации логистической модели будет полезна."
   ]
  },
  {
   "cell_type": "code",
   "execution_count": 32,
   "metadata": {},
   "outputs": [],
   "source": [
    "features_not_ohe = X_train.columns[X_train.columns.str.contains('|'.join(['team1_', 'team2_']))]\n",
    "\n",
    "scaler = StandardScaler()\n",
    "scaler.fit(X_train[features_not_ohe])\n",
    "\n",
    "X_train[features_not_ohe] = scaler.transform(X_train[features_not_ohe])\n",
    "X_test[features_not_ohe] = scaler.transform(X_test[features_not_ohe])"
   ]
  },
  {
   "cell_type": "markdown",
   "metadata": {
    "tags": []
   },
   "source": [
    "### 2.5 Заполнение пропусков"
   ]
  },
  {
   "cell_type": "markdown",
   "metadata": {},
   "source": [
    "Некоторые модели работают с пропусками, некоторые нет. Для капризных моделей заполним пропуски в признаках средними значениями соответствующего признака для ближайших 10 соседей."
   ]
  },
  {
   "cell_type": "code",
   "execution_count": 33,
   "metadata": {},
   "outputs": [],
   "source": [
    "X_train_imputed =\\\n",
    "pd.DataFrame(\n",
    "    KNNImputer(missing_values=np.nan, metric='nan_euclidean', n_neighbors=10).fit_transform(X_train),\n",
    "    index=X_train.index,\n",
    "    columns=X_train.columns\n",
    ")"
   ]
  },
  {
   "cell_type": "markdown",
   "metadata": {
    "tags": []
   },
   "source": [
    "## 3 Обучение моделей"
   ]
  },
  {
   "cell_type": "markdown",
   "metadata": {
    "tags": []
   },
   "source": [
    "### 3.1 Scikit Learn LogisticRegression"
   ]
  },
  {
   "cell_type": "markdown",
   "metadata": {},
   "source": [
    "Обучение модели."
   ]
  },
  {
   "cell_type": "code",
   "execution_count": 34,
   "metadata": {},
   "outputs": [
    {
     "name": "stdout",
     "output_type": "stream",
     "text": [
      "Лучшее значение AUC-ROC при кросс-валидации:\n",
      "0.6304 \n",
      "\n",
      "Значения гиперпараметров, при которых оно было достигнуто:\n",
      "{'C': 0.2, 'l1_ratio': 0.1, 'max_iter': 10000, 'penalty': 'elasticnet', 'random_state': 12345, 'solver': 'saga'}\n"
     ]
    }
   ],
   "source": [
    "# param_grid = {\n",
    "#     'solver':       ['newton-cg', 'lbfgs', 'liblinear', 'sag', 'saga'],\n",
    "#     'penalty':      ['elasticnet'],\n",
    "#     'max_iter':     [10000],\n",
    "#     'l1_ratio':     [None, 0.05, 0.1, 0.15],\n",
    "#     'C':            [0.1, 0.2, 0.3],\n",
    "#     'random_state': [12345]\n",
    "# }\n",
    "param_grid = {\n",
    "    'solver':       ['saga'],\n",
    "    'penalty':      ['elasticnet'],\n",
    "    'max_iter':     [10000],\n",
    "    'l1_ratio':     [0.1],\n",
    "    'C':            [0.2],\n",
    "    'random_state': [12345]\n",
    "}\n",
    "lr = GridSearchCV(\n",
    "    estimator=LogisticRegression(),\n",
    "    param_grid=param_grid,\n",
    "    scoring='roc_auc',\n",
    "    cv=5,\n",
    "    refit=True,\n",
    "    verbose=-1,\n",
    "    n_jobs=-1\n",
    ")\n",
    "_ = lr.fit(X_train_imputed, y_train);\n",
    "# rfс.cv_results_\n",
    "print('Лучшее значение AUC-ROC при кросс-валидации:')\n",
    "print(round(lr.best_score_, 4), '\\n')\n",
    "print('Значения гиперпараметров, при которых оно было достигнуто:')\n",
    "print(lr.best_params_)"
   ]
  },
  {
   "cell_type": "markdown",
   "metadata": {},
   "source": [
    "Три самых больших по модулю коэффициента модели."
   ]
  },
  {
   "cell_type": "code",
   "execution_count": 35,
   "metadata": {},
   "outputs": [
    {
     "data": {
      "text/plain": [
       "[0.5141176079656479, 0.4750306346418955, 0.45624795566451076]"
      ]
     },
     "execution_count": 35,
     "metadata": {},
     "output_type": "execute_result"
    }
   ],
   "source": [
    "sorted(abs(lr.best_estimator_.coef_.flatten()), reverse=True)[:3]"
   ]
  },
  {
   "cell_type": "markdown",
   "metadata": {},
   "source": [
    "Значения коэффициентов в норме."
   ]
  },
  {
   "cell_type": "markdown",
   "metadata": {
    "tags": []
   },
   "source": [
    "### 3.2 Scikit Learn RandomForest"
   ]
  },
  {
   "cell_type": "markdown",
   "metadata": {},
   "source": [
    "Обучение модели."
   ]
  },
  {
   "cell_type": "code",
   "execution_count": 36,
   "metadata": {},
   "outputs": [
    {
     "name": "stdout",
     "output_type": "stream",
     "text": [
      "Лучшее значение AUC-ROC при кросс-валидации:\n",
      "0.5966 \n",
      "\n",
      "Значения гиперпараметров, при которых оно было достигнуто:\n",
      "{'bootstrap': True, 'criterion': 'gini', 'max_depth': 10, 'max_features': 7, 'min_samples_leaf': 10, 'min_samples_split': 8, 'n_estimators': 125, 'random_state': 12345}\n"
     ]
    }
   ],
   "source": [
    "# %%time\n",
    "# param_grid = {\n",
    "#     'criterion':         ['gini', 'entropy', 'log_loss'],\n",
    "#     'min_samples_split': [6, 8, 10],\n",
    "#     'min_samples_leaf':  [8, 10, 12],\n",
    "#     'n_estimators':      [100, 125, 150],\n",
    "#     'max_depth':         [8, 10, 12],\n",
    "#     'max_features':      ['sqrt', 6, 7, 8],\n",
    "#     'bootstrap':         [True, False],\n",
    "#     'random_state':      [12345]\n",
    "# }\n",
    "param_grid = {\n",
    "    'criterion':         ['gini'],  # ['gini', 'entropy', 'log_loss'],\n",
    "    'min_samples_split': [8],       # [6, 8, 10]\n",
    "    'min_samples_leaf':  [10],      # [8, 10, 12]\n",
    "    'n_estimators':      [125],     # [100, 125, 150]\n",
    "    'max_depth':         [10],      # [8, 10, 12]\n",
    "    'max_features':      [7],       # ['sqrt', 6, 7, 8]\n",
    "    'bootstrap':         [True],    # [True, False]\n",
    "    'random_state':      [12345]    # [12345]\n",
    "}\n",
    "rfс = GridSearchCV(\n",
    "    estimator=RandomForestClassifier(),\n",
    "    param_grid=param_grid,\n",
    "    scoring='roc_auc',\n",
    "    cv=5,\n",
    "    refit=True,\n",
    "    verbose=0,\n",
    "    n_jobs=-1\n",
    ")\n",
    "_ = rfс.fit(X_train_imputed, y_train);\n",
    "# rfс.cv_results_\n",
    "print('Лучшее значение AUC-ROC при кросс-валидации:')\n",
    "print(round(rfс.best_score_, 4), '\\n')\n",
    "print('Значения гиперпараметров, при которых оно было достигнуто:')\n",
    "print(rfс.best_params_)"
   ]
  },
  {
   "cell_type": "markdown",
   "metadata": {},
   "source": [
    "Топ 30 наиболее важных признаков по мнению модели, обученной на тренировочной выборке."
   ]
  },
  {
   "cell_type": "code",
   "execution_count": 37,
   "metadata": {},
   "outputs": [
    {
     "data": {
      "text/plain": [
       "team2_p3_opening_kill_ratio                   0.009518\n",
       "team2_p3_kill_round                           0.009389\n",
       "team2_p3_kill_death_difference                0.009334\n",
       "team2_p1_team_win_percent_after_first_kill    0.009218\n",
       "team2_p5_headshots                            0.008812\n",
       "team1_p3_team_win_percent_after_first_kill    0.008094\n",
       "team2_p3_headshots                            0.007888\n",
       "team2_p2_opening_kill_ratio                   0.007882\n",
       "team1_p2_rounds_played                        0.007583\n",
       "team1_p5_rounds_played                        0.007557\n",
       "team2_p1_total_kills                          0.007531\n",
       "team1_p1_team_win_percent_after_first_kill    0.007481\n",
       "team1_p4_kill_death                           0.007443\n",
       "team1_p1_rounds_with_kills                    0.007327\n",
       "team2_p1_headshots                            0.007278\n",
       "team1_p3_grenade_damage_per_round             0.007261\n",
       "team1_p1_kill_death                           0.007070\n",
       "team2_p2_damage_per_round                     0.006988\n",
       "team2_p4_kill_death                           0.006952\n",
       "team2_p5_total_deaths                         0.006884\n",
       "team1_p3_opening_kill_rating                  0.006877\n",
       "team2_p3_total_opening_kills                  0.006863\n",
       "team2_p5_maps_played                          0.006861\n",
       "team2_p3_total_kills                          0.006787\n",
       "team1_p3_total_kills                          0.006689\n",
       "team1_p2_rounds_with_kills                    0.006686\n",
       "team1_p4_rounds_played                        0.006685\n",
       "team2_p4_kill_death_difference                0.006609\n",
       "team1_p5_total_deaths                         0.006388\n",
       "team2_p4_damage_per_round                     0.006330\n",
       "dtype: float64"
      ]
     },
     "execution_count": 37,
     "metadata": {},
     "output_type": "execute_result"
    }
   ],
   "source": [
    "rfс_fi = pd.Series(rfс.best_estimator_.feature_importances_, index=X_train_imputed.columns)\n",
    "rfс_fi.sort_values(ascending=False, inplace=True)\n",
    "rfс_fi.head(30)"
   ]
  },
  {
   "cell_type": "code",
   "execution_count": 38,
   "metadata": {},
   "outputs": [
    {
     "data": {
      "image/png": "[encoded data removed]",
      "text/plain": [
       "<Figure size 720x720 with 1 Axes>"
      ]
     },
     "metadata": {
      "needs_background": "light"
     },
     "output_type": "display_data"
    }
   ],
   "source": [
    "ax = rfс_fi.head(30).plot.barh(figsize=(10, 10), title='Топ 30 наиболее важных признаков для лучшей модели RandomForest');\n",
    "ax.invert_yaxis()"
   ]
  },
  {
   "cell_type": "markdown",
   "metadata": {
    "tags": []
   },
   "source": [
    "### 3.3 LGBMClassifier"
   ]
  },
  {
   "cell_type": "markdown",
   "metadata": {},
   "source": [
    "Обучение модели."
   ]
  },
  {
   "cell_type": "code",
   "execution_count": 39,
   "metadata": {},
   "outputs": [
    {
     "name": "stdout",
     "output_type": "stream",
     "text": [
      "Лучшее значение AUC-ROC при кросс-валидации:\n",
      "0.5909 \n",
      "\n",
      "Значения гиперпараметров, при которых оно было достигнуто:\n",
      "{'boosting_type': 'dart', 'max_depth': -1, 'n_estimators': 100, 'num_leaves': 11, 'random_state': 12345, 'reg_alpha': 0.001, 'reg_lambda': 0.1}\n"
     ]
    }
   ],
   "source": [
    "# %%time\n",
    "# param_grid = {\n",
    "#     'boosting_type': ['gbdt', 'dart', 'goss'],\n",
    "#     'num_leaves':    [5, 7, 11, 31],\n",
    "#     'reg_alpha':     [0, 0.001],\n",
    "#     'reg_lambda':    [0, 0.1, 0.5],\n",
    "#     'n_estimators':  [100, 150, 200],\n",
    "#     'max_depth':     [-1, 20, 50, 75],\n",
    "#     'random_state':  [12345]\n",
    "# }\n",
    "param_grid = {\n",
    "    'boosting_type': ['dart'],\n",
    "    'num_leaves':    [11],\n",
    "    'reg_alpha':     [0.001],\n",
    "    'reg_lambda':    [0.1],\n",
    "    'n_estimators':  [100],\n",
    "    'max_depth':     [-1],\n",
    "    'random_state':  [12345]\n",
    "}\n",
    "lgbmcc = GridSearchCV(\n",
    "    estimator=LGBMClassifier(),\n",
    "    param_grid=param_grid,\n",
    "    scoring='roc_auc',\n",
    "    cv=5,\n",
    "    refit=True,\n",
    "    verbose=-1,\n",
    "    n_jobs=-1\n",
    ")\n",
    "_ = lgbmcc.fit(X_train_imputed, y_train);\n",
    "# lgbmcc.cv_results_\n",
    "print('Лучшее значение AUC-ROC при кросс-валидации:')\n",
    "print(round(lgbmcc.best_score_, 4), '\\n')\n",
    "print('Значения гиперпараметров, при которых оно было достигнуто:')\n",
    "print(lgbmcc.best_params_)"
   ]
  },
  {
   "cell_type": "markdown",
   "metadata": {},
   "source": [
    "Топ 30 наиболее важных признаков."
   ]
  },
  {
   "cell_type": "code",
   "execution_count": 40,
   "metadata": {},
   "outputs": [
    {
     "data": {
      "text/plain": [
       "team2_p1_headshots                            30\n",
       "team2_p3_headshots                            29\n",
       "team2_p3_opening_kill_ratio                   27\n",
       "team1_p5_rounds_with_kills                    25\n",
       "team2_p5_kd_ratio                             20\n",
       "team1_p3_total_opening_kills                  20\n",
       "team1_p4_total_kills                          19\n",
       "team1_p3_headshots                            19\n",
       "team1_p3_total_kills                          17\n",
       "team2_p5_rounds_with_kills                    16\n",
       "team2_p1_team_win_percent_after_first_kill    16\n",
       "team1_p4_team_win_percent_after_first_kill    16\n",
       "team2_p2_total_deaths                         15\n",
       "team2_p2_opening_kill_ratio                   15\n",
       "team2_p4_kd_ratio                             15\n",
       "team2_p1_rounds_with_kills                    15\n",
       "team1_p3_rounds_with_kills                    14\n",
       "team1_p4_kill_death                           13\n",
       "team2_p1_total_opening_deaths                 13\n",
       "team2_p5_headshots                            13\n",
       "team1_p2_total_opening_deaths                 12\n",
       "team2_p3_kill_death                           11\n",
       "team1_p3_grenade_damage_per_round             11\n",
       "team1_p5_team_win_percent_after_first_kill    11\n",
       "team1_p4_assists_per_round                    11\n",
       "team1_p1_team_win_percent_after_first_kill    10\n",
       "team2_p1_damage_per_round                     10\n",
       "team1_p1_rounds_with_kills                    10\n",
       "team2_p3_kill_round                           10\n",
       "team1_p4_headshots                            10\n",
       "dtype: int32"
      ]
     },
     "execution_count": 40,
     "metadata": {},
     "output_type": "execute_result"
    }
   ],
   "source": [
    "lgbmcc_fi = pd.Series(lgbmcc.best_estimator_.feature_importances_, index=X_train_imputed.columns)\n",
    "lgbmcc_fi.sort_values(ascending=False, inplace=True)\n",
    "lgbmcc_fi.head(30)"
   ]
  },
  {
   "cell_type": "code",
   "execution_count": 41,
   "metadata": {},
   "outputs": [
    {
     "data": {
      "image/png": "[encoded data removed]",
      "text/plain": [
       "<Figure size 720x720 with 1 Axes>"
      ]
     },
     "metadata": {
      "needs_background": "light"
     },
     "output_type": "display_data"
    }
   ],
   "source": [
    "ax = lgbmcc_fi.head(30).plot.barh(figsize=(10, 10), title='Топ 30 наиболее важных признаков для лучшей модели LGBMRegressor');\n",
    "ax.invert_yaxis() "
   ]
  },
  {
   "cell_type": "markdown",
   "metadata": {
    "tags": []
   },
   "source": [
    "### 3.4 CatBoostClassifier"
   ]
  },
  {
   "cell_type": "markdown",
   "metadata": {},
   "source": [
    "Обучение модели."
   ]
  },
  {
   "cell_type": "code",
   "execution_count": 42,
   "metadata": {},
   "outputs": [
    {
     "name": "stdout",
     "output_type": "stream",
     "text": [
      "Лучшее значение AUC-ROC при кросс-валидации:\n",
      "0.6057 \n",
      "\n",
      "Значения гиперпараметров, при которых оно было достигнуто:\n",
      "{'learning_rate': 0.1, 'max_depth': 2, 'n_estimators': 110, 'verbose': False}\n"
     ]
    }
   ],
   "source": [
    "# %%time\n",
    "# param_grid = {\n",
    "#     'n_estimators':  [80, 110, 120],\n",
    "#     'max_depth':     [1, 2, 3],\n",
    "#     'learning_rate': [0.01, 0.1],\n",
    "#     'verbose':       [False]\n",
    "# }\n",
    "param_grid = {\n",
    "    'n_estimators':  [110],\n",
    "    'max_depth':     [2],\n",
    "    'learning_rate': [0.1],\n",
    "    'verbose':       [False]\n",
    "}\n",
    "cbc = GridSearchCV(\n",
    "    estimator=CatBoostClassifier(),\n",
    "    param_grid=param_grid,\n",
    "    scoring='roc_auc',\n",
    "    cv=5,\n",
    "    refit=True,\n",
    "    verbose=-1\n",
    ")\n",
    "cbc.fit(X_train, y_train)\n",
    "# cbc.cv_results_;\n",
    "print('Лучшее значение AUC-ROC при кросс-валидации:')\n",
    "print(round(cbc.best_score_, 4), '\\n')\n",
    "print('Значения гиперпараметров, при которых оно было достигнуто:')\n",
    "print(cbc.best_params_)"
   ]
  },
  {
   "cell_type": "markdown",
   "metadata": {},
   "source": [
    "Топ 30 наиболее важных признаков."
   ]
  },
  {
   "cell_type": "code",
   "execution_count": 43,
   "metadata": {},
   "outputs": [
    {
     "data": {
      "text/plain": [
       "team2_p3_headshots                            3.676222\n",
       "team2_p3_opening_kill_ratio                   3.466083\n",
       "team2_p1_headshots                            3.259592\n",
       "team1_p2_total_opening_deaths                 2.723651\n",
       "team2_p5_kd_ratio                             2.573133\n",
       "team1_p3_team_win_percent_after_first_kill    2.528288\n",
       "team2_p3_opening_kill_rating                  2.098562\n",
       "team2_p5_headshots                            2.080365\n",
       "team2_p3_first_kill_in_won_rounds             1.922054\n",
       "team2_p1_rounds_with_kills                    1.858031\n",
       "team2_p3_kill_death                           1.759324\n",
       "team2_p5_total_opening_deaths                 1.722735\n",
       "team2_p4_damage_per_round                     1.684231\n",
       "team1_p3_opening_kill_rating                  1.645516\n",
       "team2_p4_kd_ratio                             1.614708\n",
       "team2_p2_opening_kill_ratio                   1.574161\n",
       "team1_p1_total_opening_deaths                 1.569567\n",
       "team2_p1_total_opening_kills                  1.505560\n",
       "team1_p3_total_kills                          1.475653\n",
       "team1_p5_team_win_percent_after_first_kill    1.457692\n",
       "team2_p5_kill_death                           1.405267\n",
       "team2_p3_kill_round                           1.385346\n",
       "team1_p2_saved_by_teammate_per_round          1.376686\n",
       "team1_p5_rounds_with_kills                    1.359538\n",
       "team1_p3_total_opening_deaths                 1.293459\n",
       "team1_p4_total_kills                          1.282224\n",
       "team1_p5_grenade_damage_per_round             1.234359\n",
       "team1_p1_team_win_percent_after_first_kill    1.227122\n",
       "team2_p3_kill_death_difference                1.197071\n",
       "team1_p3_kill_death                           1.186918\n",
       "dtype: float64"
      ]
     },
     "execution_count": 43,
     "metadata": {},
     "output_type": "execute_result"
    }
   ],
   "source": [
    "cbc_fi = pd.Series(cbc.best_estimator_.feature_importances_, index=X_train.columns)\n",
    "cbc_fi.sort_values(ascending=False, inplace=True)\n",
    "cbc_fi.head(30)"
   ]
  },
  {
   "cell_type": "code",
   "execution_count": 44,
   "metadata": {},
   "outputs": [
    {
     "data": {
      "image/png": "[encoded data removed]",
      "text/plain": [
       "<Figure size 720x720 with 1 Axes>"
      ]
     },
     "metadata": {
      "needs_background": "light"
     },
     "output_type": "display_data"
    }
   ],
   "source": [
    "ax = cbc_fi.head(30).plot.barh(figsize=(10, 10), title='Топ 30 наиболее важных признаков для лучшей модели CatBoostClassifier');\n",
    "ax.invert_yaxis()"
   ]
  },
  {
   "cell_type": "markdown",
   "metadata": {
    "tags": []
   },
   "source": [
    "### 3.5 Примитивный классификатор DummyClassifier"
   ]
  },
  {
   "cell_type": "markdown",
   "metadata": {},
   "source": [
    "За неимением таргета для теста, опробуем тупой классификатор на кросс-валидации. Ставлю на 0.5!"
   ]
  },
  {
   "cell_type": "code",
   "execution_count": 45,
   "metadata": {},
   "outputs": [
    {
     "name": "stdout",
     "output_type": "stream",
     "text": [
      "Лучшее значение AUC-ROC при кросс-валидации:\n",
      "0.5 \n",
      "\n"
     ]
    }
   ],
   "source": [
    "dc = GridSearchCV(\n",
    "    estimator=DummyClassifier(strategy='most_frequent'),\n",
    "    param_grid={},\n",
    "    scoring='roc_auc',\n",
    "    cv=5,\n",
    "    refit=True,\n",
    "    verbose=-1\n",
    ")\n",
    "dc.fit(X_train_imputed, y_train)\n",
    "print('Лучшее значение AUC-ROC при кросс-валидации:')\n",
    "print(round(dc.best_score_, 4), '\\n')"
   ]
  },
  {
   "cell_type": "markdown",
   "metadata": {
    "tags": []
   },
   "source": [
    "## 4 Предсказание"
   ]
  },
  {
   "cell_type": "markdown",
   "metadata": {},
   "source": [
    "Предскажем исходы матчей с помощью трех обученных моделей, показавших на кросс-валидации наибольшие значения метрики AUC-ROC."
   ]
  },
  {
   "cell_type": "markdown",
   "metadata": {},
   "source": [
    "Прогноз модели LogisticRegression."
   ]
  },
  {
   "cell_type": "code",
   "execution_count": 46,
   "metadata": {},
   "outputs": [
    {
     "data": {
      "text/plain": [
       "array([1, 1, 1, 1, 0, 0, 0, 0, 1, 0, 0, 0, 1, 0, 0, 1, 1, 1, 1, 1, 0, 1,\n",
       "       1, 0, 0, 1, 1, 1, 1, 1])"
      ]
     },
     "execution_count": 46,
     "metadata": {},
     "output_type": "execute_result"
    }
   ],
   "source": [
    "y_test_pred_log_reg = lr.best_estimator_.predict(X_test)\n",
    "y_test_pred_log_reg"
   ]
  },
  {
   "cell_type": "code",
   "execution_count": 47,
   "metadata": {},
   "outputs": [],
   "source": [
    "with open('./prediction_1.txt', 'a') as f:\n",
    "    f.write(' '.join(map(str, y_test_pred_log_reg)))"
   ]
  },
  {
   "cell_type": "markdown",
   "metadata": {},
   "source": [
    "Модели CatBoostClassifier."
   ]
  },
  {
   "cell_type": "code",
   "execution_count": 48,
   "metadata": {},
   "outputs": [
    {
     "data": {
      "text/plain": [
       "array([1, 0, 1, 0, 0, 0, 0, 0, 0, 0, 0, 1, 0, 0, 0, 0, 1, 1, 0, 0, 0, 0,\n",
       "       1, 0, 0, 0, 0, 1, 0, 1])"
      ]
     },
     "execution_count": 48,
     "metadata": {},
     "output_type": "execute_result"
    }
   ],
   "source": [
    "y_test_pred_cat_boost = cbc.best_estimator_.predict(X_test)\n",
    "y_test_pred_cat_boost"
   ]
  },
  {
   "cell_type": "code",
   "execution_count": 49,
   "metadata": {},
   "outputs": [],
   "source": [
    "with open('./prediction_2.txt', 'a') as f:\n",
    "    f.write(' '.join(map(str, y_test_pred_cat_boost)))"
   ]
  },
  {
   "cell_type": "markdown",
   "metadata": {},
   "source": [
    "И модели RandomForestClassifier."
   ]
  },
  {
   "cell_type": "code",
   "execution_count": 50,
   "metadata": {},
   "outputs": [
    {
     "data": {
      "text/plain": [
       "array([1, 0, 1, 0, 0, 0, 0, 0, 0, 0, 0, 1, 0, 0, 0, 0, 1, 1, 0, 0, 0, 0,\n",
       "       1, 0, 0, 0, 0, 1, 0, 1])"
      ]
     },
     "execution_count": 50,
     "metadata": {},
     "output_type": "execute_result"
    }
   ],
   "source": [
    "y_test_pred_rand_forest = cbc.best_estimator_.predict(X_test)\n",
    "y_test_pred_rand_forest"
   ]
  },
  {
   "cell_type": "code",
   "execution_count": 51,
   "metadata": {},
   "outputs": [],
   "source": [
    "with open('./prediction_3.txt', 'a') as f:\n",
    "    f.write(' '.join(map(str, y_test_pred_rand_forest)))"
   ]
  },
  {
   "cell_type": "markdown",
   "metadata": {},
   "source": [
    "## 5 Вывод"
   ]
  },
  {
   "cell_type": "markdown",
   "metadata": {},
   "source": [
    "А вывод делать пока рано. ))"
   ]
  }
 ],
 "metadata": {
  "colab": {
   "authorship_tag": "ABX9TyPe5atArRN91IOpMXPfCSYC",
   "mount_file_id": "1FKnlghcfJQpxi5P1PsNNqPrOYgSGdGrI",
   "provenance": []
  },
  "kernelspec": {
   "display_name": "Python 3 (ipykernel)",
   "language": "python",
   "name": "python3"
  },
  "language_info": {
   "codemirror_mode": {
    "name": "ipython",
    "version": 3
   },
   "file_extension": ".py",
   "mimetype": "text/x-python",
   "name": "python",
   "nbconvert_exporter": "python",
   "pygments_lexer": "ipython3",
   "version": "3.10.5"
  }
 },
 "nbformat": 4,
 "nbformat_minor": 4
}
